{
 "cells": [
  {
   "cell_type": "code",
   "execution_count": 1,
   "metadata": {},
   "outputs": [],
   "source": [
    "import os\n",
    "from PIL import Image\n",
    "import torch\n",
    "from torch.utils.data import Dataset, DataLoader\n",
    "import torch.nn as nn\n",
    "import torch.nn.functional as F\n",
    "import torchvision.models as models\n",
    "from torchvision import transforms\n",
    "import pytorch_lightning as pl\n",
    "from pytorch_lightning.callbacks import ModelCheckpoint\n",
    "import glob\n",
    "import random\n",
    "import numpy as np\n",
    "from torchmetrics import Accuracy, Precision, Recall\n",
    "import wandb\n",
    "from pytorch_lightning.loggers import WandbLogger\n",
    "import torchvision.transforms as T\n",
    "from src.fire_series_dataset import FireSeriesDataset\n",
    "from src.temporal_model import TemporalModel \n"
   ]
  },
  {
   "cell_type": "code",
   "execution_count": 2,
   "metadata": {},
   "outputs": [],
   "source": [
    "import os\n",
    "os.environ['CUDA_LAUNCH_BLOCKING'] = '0'"
   ]
  },
  {
   "cell_type": "code",
   "execution_count": 3,
   "metadata": {},
   "outputs": [],
   "source": [
    "class FireDataModule(pl.LightningDataModule):\n",
    "    def __init__(self, data_dir, batch_size=16, img_size=224, num_workers=12):\n",
    "        super().__init__()\n",
    "        self.data_dir = data_dir\n",
    "        self.batch_size = batch_size\n",
    "        self.img_size = img_size\n",
    "        self.num_workers = num_workers\n",
    "\n",
    "    def setup(self, stage=None):\n",
    "        self.train_dataset = FireSeriesDataset(\n",
    "            os.path.join(self.data_dir, \"train\"), self.img_size\n",
    "        )\n",
    "        self.val_dataset = FireSeriesDataset(\n",
    "            os.path.join(self.data_dir, \"val\"), self.img_size\n",
    "        )\n",
    "\n",
    "    def train_dataloader(self):\n",
    "        return DataLoader(self.train_dataset, batch_size=self.batch_size, shuffle=True, num_workers=self.num_workers)\n",
    "\n",
    "    def val_dataloader(self):\n",
    "        return DataLoader(self.val_dataset, batch_size=self.batch_size, num_workers=self.num_workers)\n",
    "\n"
   ]
  },
  {
   "cell_type": "code",
   "execution_count": 4,
   "metadata": {},
   "outputs": [],
   "source": [
    "import torch\n",
    "import torch.nn.functional as F\n",
    "import pytorch_lightning as pl\n",
    "from torchmetrics import Accuracy, Precision, Recall\n",
    "\n",
    "class FireClassifier(pl.LightningModule):\n",
    "    def __init__(self, learning_rate=1e-4, unfreeze_epoch=5):\n",
    "        super(FireClassifier, self).__init__()\n",
    "        self.save_hyperparameters()\n",
    "\n",
    "        self.model = TemporalModel()\n",
    "\n",
    "        # Initialize the accuracy, precision, and recall metrics\n",
    "        self.train_accuracy = Accuracy(task=\"binary\")\n",
    "        self.val_accuracy = Accuracy(task=\"binary\")\n",
    "        self.train_precision = Precision(task=\"binary\")\n",
    "        self.val_precision = Precision(task=\"binary\")\n",
    "        self.train_recall = Recall(task=\"binary\")\n",
    "        self.val_recall = Recall(task=\"binary\")\n",
    "\n",
    "        # Track the epoch to unfreeze the model\n",
    "        self.unfreeze_epoch = unfreeze_epoch\n",
    "\n",
    "    def unfreeze_model(self):\n",
    "        \"\"\"Unfreeze efficient last 5 layers.\"\"\"\n",
    "        for param in self.model.efficientnet[-5:].parameters(): \n",
    "            param.requires_grad = True\n",
    "\n",
    "            \n",
    "    def forward(self, x):\n",
    "        x = self.model(x)\n",
    "        return x\n",
    "\n",
    "    def training_step(self, batch, batch_idx):\n",
    "        x, y = batch\n",
    "        y_hat = self(x).squeeze()\n",
    "\n",
    "        # Use binary cross-entropy, since the sigmoid is already applied in the model\n",
    "        loss = F.binary_cross_entropy(y_hat, y.float())\n",
    "        \n",
    "        # Metrics computation (no need for sigmoid as it's already applied)\n",
    "        acc = self.train_accuracy(y_hat, y.int())\n",
    "        precision = self.train_precision(y_hat, y.int())\n",
    "        recall = self.train_recall(y_hat, y.int())\n",
    "        \n",
    "        # Logging\n",
    "        self.log(\"train_loss\", loss, on_step=False, on_epoch=True)\n",
    "        self.log(\"train_acc\", acc, on_step=False, on_epoch=True)\n",
    "        self.log(\"train_precision\", precision, on_step=False, on_epoch=True)\n",
    "        self.log(\"train_recall\", recall, on_step=False, on_epoch=True)\n",
    "        return loss\n",
    "\n",
    "    def validation_step(self, batch, batch_idx):\n",
    "        x, y = batch\n",
    "        y_hat = self(x).squeeze()\n",
    "\n",
    "        # Use binary cross-entropy for validation as well\n",
    "        loss = F.binary_cross_entropy(y_hat, y.float())\n",
    "        \n",
    "        # Metrics computation (no need for sigmoid as it's already applied)\n",
    "        acc = self.val_accuracy(y_hat, y.int())\n",
    "        precision = self.val_precision(y_hat, y.int())\n",
    "        recall = self.val_recall(y_hat, y.int())\n",
    "        \n",
    "        # Logging\n",
    "        self.log(\"val_loss\", loss, on_step=False, on_epoch=True)\n",
    "        self.log(\"val_acc\", acc, on_step=False, on_epoch=True)\n",
    "        self.log(\"val_precision\", precision, on_step=False, on_epoch=True)\n",
    "        self.log(\"val_recall\", recall, on_step=False, on_epoch=True)\n",
    "        return loss\n",
    "\n",
    "    def on_train_epoch_end(self):\n",
    "        # At the end of each training epoch, display the current metrics\n",
    "        train_acc = self.train_accuracy.compute().item()\n",
    "        train_precision = self.train_precision.compute().item()\n",
    "        train_recall = self.train_recall.compute().item()\n",
    "        print(f\"Epoch {self.current_epoch}:\")\n",
    "        print(f\"Train Accuracy: {train_acc:.4f}\")\n",
    "        print(f\"Train Precision: {train_precision:.4f}\")\n",
    "        print(f\"Train Recall: {train_recall:.4f}\")\n",
    "        \n",
    "        # Unfreeze the model after the specified number of epochs\n",
    "        if self.current_epoch + 1 == self.unfreeze_epoch:\n",
    "            print(f\"Unfreeze efficient last 5 layers at epoch {self.current_epoch + 1}\")\n",
    "            self.unfreeze_model()\n",
    "\n",
    "        # Reset metrics for the next epoch\n",
    "        self.train_accuracy.reset()\n",
    "        self.train_precision.reset()\n",
    "        self.train_recall.reset()\n",
    "\n",
    "    def on_validation_epoch_end(self):\n",
    "        # At the end of each validation epoch, display the current metrics\n",
    "        val_acc = self.val_accuracy.compute().item()\n",
    "        val_precision = self.val_precision.compute().item()\n",
    "        val_recall = self.val_recall.compute().item()\n",
    "        print(f\"Validation - Epoch {self.current_epoch}:\")\n",
    "        print(f\"Val Accuracy: {val_acc:.4f}\")\n",
    "        print(f\"Val Precision: {val_precision:.4f}\")\n",
    "        print(f\"Val Recall: {val_recall:.4f}\")\n",
    "        \n",
    "        # Reset metrics for the next epoch\n",
    "        self.val_accuracy.reset()\n",
    "        self.val_precision.reset()\n",
    "        self.val_recall.reset()\n",
    "\n",
    "    def configure_optimizers(self):\n",
    "        optimizer = torch.optim.Adam(self.parameters(), lr=self.hparams['learning_rate'], weight_decay=1e-4)\n",
    "        scheduler = torch.optim.lr_scheduler.CosineAnnealingLR(optimizer, T_max=50, eta_min=1e-6)\n",
    "        return {\n",
    "            'optimizer': optimizer,\n",
    "            'lr_scheduler': {\n",
    "                'scheduler': scheduler,\n",
    "                'monitor': 'val_loss'\n",
    "            }\n",
    "        }\n"
   ]
  },
  {
   "cell_type": "code",
   "execution_count": 5,
   "metadata": {},
   "outputs": [
    {
     "name": "stderr",
     "output_type": "stream",
     "text": [
      "GPU available: True (cuda), used: True\n",
      "TPU available: False, using: 0 TPU cores\n",
      "HPU available: False, using: 0 HPUs\n",
      "You are using a CUDA device ('NVIDIA GeForce RTX 3050 Ti Laptop GPU') that has Tensor Cores. To properly utilize them, you should set `torch.set_float32_matmul_precision('medium' | 'high')` which will trade-off precision for performance. For more details, read https://pytorch.org/docs/stable/generated/torch.set_float32_matmul_precision.html#torch.set_float32_matmul_precision\n",
      "\u001b[34m\u001b[1mwandb\u001b[0m: Using wandb-core as the SDK backend. Please refer to https://wandb.me/wandb-core for more information.\n",
      "\u001b[34m\u001b[1mwandb\u001b[0m: Currently logged in as: \u001b[33mmateolos\u001b[0m. Use \u001b[1m`wandb login --relogin`\u001b[0m to force relogin\n"
     ]
    },
    {
     "data": {
      "text/html": [
       "Tracking run with wandb version 0.18.1"
      ],
      "text/plain": [
       "<IPython.core.display.HTML object>"
      ]
     },
     "metadata": {},
     "output_type": "display_data"
    },
    {
     "data": {
      "text/html": [
       "Run data is saved locally in <code>./wandb/run-20240917_195230-ilhbc6bs</code>"
      ],
      "text/plain": [
       "<IPython.core.display.HTML object>"
      ]
     },
     "metadata": {},
     "output_type": "display_data"
    },
    {
     "data": {
      "text/html": [
       "Syncing run <strong><a href='https://wandb.ai/mateolos/fire_detection_project/runs/ilhbc6bs' target=\"_blank\">comic-moon-32</a></strong> to <a href='https://wandb.ai/mateolos/fire_detection_project' target=\"_blank\">Weights & Biases</a> (<a href='https://wandb.me/run' target=\"_blank\">docs</a>)<br/>"
      ],
      "text/plain": [
       "<IPython.core.display.HTML object>"
      ]
     },
     "metadata": {},
     "output_type": "display_data"
    },
    {
     "data": {
      "text/html": [
       " View project at <a href='https://wandb.ai/mateolos/fire_detection_project' target=\"_blank\">https://wandb.ai/mateolos/fire_detection_project</a>"
      ],
      "text/plain": [
       "<IPython.core.display.HTML object>"
      ]
     },
     "metadata": {},
     "output_type": "display_data"
    },
    {
     "data": {
      "text/html": [
       " View run at <a href='https://wandb.ai/mateolos/fire_detection_project/runs/ilhbc6bs' target=\"_blank\">https://wandb.ai/mateolos/fire_detection_project/runs/ilhbc6bs</a>"
      ],
      "text/plain": [
       "<IPython.core.display.HTML object>"
      ]
     },
     "metadata": {},
     "output_type": "display_data"
    },
    {
     "name": "stderr",
     "output_type": "stream",
     "text": [
      "LOCAL_RANK: 0 - CUDA_VISIBLE_DEVICES: [0]\n",
      "\n",
      "  | Name            | Type            | Params | Mode \n",
      "------------------------------------------------------------\n",
      "0 | model           | TemporalModel   | 9.1 M  | train\n",
      "1 | train_accuracy  | BinaryAccuracy  | 0      | train\n",
      "2 | val_accuracy    | BinaryAccuracy  | 0      | train\n",
      "3 | train_precision | BinaryPrecision | 0      | train\n",
      "4 | val_precision   | BinaryPrecision | 0      | train\n",
      "5 | train_recall    | BinaryRecall    | 0      | train\n",
      "6 | val_recall      | BinaryRecall    | 0      | train\n",
      "------------------------------------------------------------\n",
      "2.6 M     Trainable params\n",
      "6.5 M     Non-trainable params\n",
      "9.1 M     Total params\n",
      "36.564    Total estimated model params size (MB)\n",
      "480       Modules in train mode\n",
      "0         Modules in eval mode\n"
     ]
    },
    {
     "data": {
      "application/vnd.jupyter.widget-view+json": {
       "model_id": "4b58ad3d04db43a19527b3b92b5cd940",
       "version_major": 2,
       "version_minor": 0
      },
      "text/plain": [
       "Sanity Checking: |          | 0/? [00:00<?, ?it/s]"
      ]
     },
     "metadata": {},
     "output_type": "display_data"
    },
    {
     "name": "stdout",
     "output_type": "stream",
     "text": [
      "Validation - Epoch 0:\n",
      "Val Accuracy: 0.5000\n",
      "Val Precision: 0.5000\n",
      "Val Recall: 1.0000\n"
     ]
    },
    {
     "data": {
      "application/vnd.jupyter.widget-view+json": {
       "model_id": "b14516f2787d4959837a3633fcb63f59",
       "version_major": 2,
       "version_minor": 0
      },
      "text/plain": [
       "Training: |          | 0/? [00:00<?, ?it/s]"
      ]
     },
     "metadata": {},
     "output_type": "display_data"
    },
    {
     "data": {
      "application/vnd.jupyter.widget-view+json": {
       "model_id": "b804c8df884947f5b03fc84828040f3e",
       "version_major": 2,
       "version_minor": 0
      },
      "text/plain": [
       "Validation: |          | 0/? [00:00<?, ?it/s]"
      ]
     },
     "metadata": {},
     "output_type": "display_data"
    },
    {
     "name": "stdout",
     "output_type": "stream",
     "text": [
      "Validation - Epoch 0:\n",
      "Val Accuracy: 0.8244\n",
      "Val Precision: 0.7978\n",
      "Val Recall: 0.8690\n",
      "Epoch 0:\n",
      "Train Accuracy: 0.7803\n",
      "Train Precision: 0.7321\n",
      "Train Recall: 0.8842\n"
     ]
    },
    {
     "data": {
      "application/vnd.jupyter.widget-view+json": {
       "model_id": "215c586eec46411cbadd8451baf3cd81",
       "version_major": 2,
       "version_minor": 0
      },
      "text/plain": [
       "Validation: |          | 0/? [00:00<?, ?it/s]"
      ]
     },
     "metadata": {},
     "output_type": "display_data"
    },
    {
     "name": "stdout",
     "output_type": "stream",
     "text": [
      "Validation - Epoch 1:\n",
      "Val Accuracy: 0.8601\n",
      "Val Precision: 0.8712\n",
      "Val Recall: 0.8452\n",
      "Epoch 1:\n",
      "Train Accuracy: 0.8655\n",
      "Train Precision: 0.8391\n",
      "Train Recall: 0.9042\n"
     ]
    },
    {
     "data": {
      "application/vnd.jupyter.widget-view+json": {
       "model_id": "b6e65d4c55294dbeb5c88fe7609dc1ef",
       "version_major": 2,
       "version_minor": 0
      },
      "text/plain": [
       "Validation: |          | 0/? [00:00<?, ?it/s]"
      ]
     },
     "metadata": {},
     "output_type": "display_data"
    },
    {
     "name": "stdout",
     "output_type": "stream",
     "text": [
      "Validation - Epoch 2:\n",
      "Val Accuracy: 0.8482\n",
      "Val Precision: 0.8774\n",
      "Val Recall: 0.8095\n",
      "Epoch 2:\n",
      "Train Accuracy: 0.8821\n",
      "Train Precision: 0.8676\n",
      "Train Recall: 0.9018\n",
      "Unfreezing all model layers at epoch 3\n"
     ]
    },
    {
     "data": {
      "application/vnd.jupyter.widget-view+json": {
       "model_id": "69b28064175d4a9ab511a6749a1cb59e",
       "version_major": 2,
       "version_minor": 0
      },
      "text/plain": [
       "Validation: |          | 0/? [00:00<?, ?it/s]"
      ]
     },
     "metadata": {},
     "output_type": "display_data"
    },
    {
     "name": "stdout",
     "output_type": "stream",
     "text": [
      "Validation - Epoch 3:\n",
      "Val Accuracy: 0.9048\n",
      "Val Precision: 0.9474\n",
      "Val Recall: 0.8571\n",
      "Epoch 3:\n",
      "Train Accuracy: 0.9185\n",
      "Train Precision: 0.9113\n",
      "Train Recall: 0.9273\n"
     ]
    },
    {
     "data": {
      "application/vnd.jupyter.widget-view+json": {
       "model_id": "ac618a9a5c454119ab5aa8b20fa12f10",
       "version_major": 2,
       "version_minor": 0
      },
      "text/plain": [
       "Validation: |          | 0/? [00:00<?, ?it/s]"
      ]
     },
     "metadata": {},
     "output_type": "display_data"
    },
    {
     "name": "stdout",
     "output_type": "stream",
     "text": [
      "Validation - Epoch 4:\n",
      "Val Accuracy: 0.8958\n",
      "Val Precision: 0.9524\n",
      "Val Recall: 0.8333\n",
      "Epoch 4:\n",
      "Train Accuracy: 0.9606\n",
      "Train Precision: 0.9617\n",
      "Train Recall: 0.9594\n"
     ]
    },
    {
     "data": {
      "application/vnd.jupyter.widget-view+json": {
       "model_id": "ea7de50b4c4442de98355bc2864237d1",
       "version_major": 2,
       "version_minor": 0
      },
      "text/plain": [
       "Validation: |          | 0/? [00:00<?, ?it/s]"
      ]
     },
     "metadata": {},
     "output_type": "display_data"
    },
    {
     "name": "stdout",
     "output_type": "stream",
     "text": [
      "Validation - Epoch 5:\n",
      "Val Accuracy: 0.8839\n",
      "Val Precision: 0.9510\n",
      "Val Recall: 0.8095\n",
      "Epoch 5:\n",
      "Train Accuracy: 0.9797\n",
      "Train Precision: 0.9794\n",
      "Train Recall: 0.9800\n"
     ]
    },
    {
     "data": {
      "application/vnd.jupyter.widget-view+json": {
       "model_id": "908f3f1013654593813e3410681771a6",
       "version_major": 2,
       "version_minor": 0
      },
      "text/plain": [
       "Validation: |          | 0/? [00:00<?, ?it/s]"
      ]
     },
     "metadata": {},
     "output_type": "display_data"
    },
    {
     "name": "stdout",
     "output_type": "stream",
     "text": [
      "Validation - Epoch 6:\n",
      "Val Accuracy: 0.9315\n",
      "Val Precision: 0.9503\n",
      "Val Recall: 0.9107\n",
      "Epoch 6:\n",
      "Train Accuracy: 0.9821\n",
      "Train Precision: 0.9801\n",
      "Train Recall: 0.9842\n"
     ]
    },
    {
     "data": {
      "application/vnd.jupyter.widget-view+json": {
       "model_id": "59d92d7f3f7b4e4298359be74f929a44",
       "version_major": 2,
       "version_minor": 0
      },
      "text/plain": [
       "Validation: |          | 0/? [00:00<?, ?it/s]"
      ]
     },
     "metadata": {},
     "output_type": "display_data"
    },
    {
     "name": "stdout",
     "output_type": "stream",
     "text": [
      "Validation - Epoch 7:\n",
      "Val Accuracy: 0.9137\n",
      "Val Precision: 0.9728\n",
      "Val Recall: 0.8512\n",
      "Epoch 7:\n",
      "Train Accuracy: 0.9870\n",
      "Train Precision: 0.9867\n",
      "Train Recall: 0.9873\n"
     ]
    },
    {
     "data": {
      "application/vnd.jupyter.widget-view+json": {
       "model_id": "7f762ec020e449ada83bee5f2ffe889e",
       "version_major": 2,
       "version_minor": 0
      },
      "text/plain": [
       "Validation: |          | 0/? [00:00<?, ?it/s]"
      ]
     },
     "metadata": {},
     "output_type": "display_data"
    },
    {
     "name": "stdout",
     "output_type": "stream",
     "text": [
      "Validation - Epoch 8:\n",
      "Val Accuracy: 0.9226\n",
      "Val Precision: 0.9733\n",
      "Val Recall: 0.8690\n",
      "Epoch 8:\n",
      "Train Accuracy: 0.9858\n",
      "Train Precision: 0.9861\n",
      "Train Recall: 0.9855\n"
     ]
    },
    {
     "data": {
      "application/vnd.jupyter.widget-view+json": {
       "model_id": "c6f2e16bb75e4b52b35a9665bfbfb97f",
       "version_major": 2,
       "version_minor": 0
      },
      "text/plain": [
       "Validation: |          | 0/? [00:00<?, ?it/s]"
      ]
     },
     "metadata": {},
     "output_type": "display_data"
    },
    {
     "name": "stdout",
     "output_type": "stream",
     "text": [
      "Validation - Epoch 9:\n",
      "Val Accuracy: 0.9256\n",
      "Val Precision: 0.9673\n",
      "Val Recall: 0.8810\n",
      "Epoch 9:\n",
      "Train Accuracy: 0.9912\n",
      "Train Precision: 0.9909\n",
      "Train Recall: 0.9915\n"
     ]
    },
    {
     "data": {
      "application/vnd.jupyter.widget-view+json": {
       "model_id": "d4bc75c6a9a943c48e8a29be5083ed80",
       "version_major": 2,
       "version_minor": 0
      },
      "text/plain": [
       "Validation: |          | 0/? [00:00<?, ?it/s]"
      ]
     },
     "metadata": {},
     "output_type": "display_data"
    },
    {
     "name": "stdout",
     "output_type": "stream",
     "text": [
      "Validation - Epoch 10:\n",
      "Val Accuracy: 0.9167\n",
      "Val Precision: 0.9730\n",
      "Val Recall: 0.8571\n",
      "Epoch 10:\n",
      "Train Accuracy: 0.9924\n",
      "Train Precision: 0.9927\n",
      "Train Recall: 0.9921\n"
     ]
    },
    {
     "data": {
      "application/vnd.jupyter.widget-view+json": {
       "model_id": "31b5a1a4153b476f86da0ea5f1e288a6",
       "version_major": 2,
       "version_minor": 0
      },
      "text/plain": [
       "Validation: |          | 0/? [00:00<?, ?it/s]"
      ]
     },
     "metadata": {},
     "output_type": "display_data"
    },
    {
     "name": "stdout",
     "output_type": "stream",
     "text": [
      "Validation - Epoch 11:\n",
      "Val Accuracy: 0.9375\n",
      "Val Precision: 0.9742\n",
      "Val Recall: 0.8988\n",
      "Epoch 11:\n",
      "Train Accuracy: 0.9882\n",
      "Train Precision: 0.9855\n",
      "Train Recall: 0.9909\n"
     ]
    },
    {
     "data": {
      "application/vnd.jupyter.widget-view+json": {
       "model_id": "c8ca73c2adb543dc9d827e750dc6ff82",
       "version_major": 2,
       "version_minor": 0
      },
      "text/plain": [
       "Validation: |          | 0/? [00:00<?, ?it/s]"
      ]
     },
     "metadata": {},
     "output_type": "display_data"
    },
    {
     "name": "stdout",
     "output_type": "stream",
     "text": [
      "Validation - Epoch 12:\n",
      "Val Accuracy: 0.9107\n",
      "Val Precision: 0.9662\n",
      "Val Recall: 0.8512\n",
      "Epoch 12:\n",
      "Train Accuracy: 0.9936\n",
      "Train Precision: 0.9963\n",
      "Train Recall: 0.9909\n"
     ]
    },
    {
     "data": {
      "application/vnd.jupyter.widget-view+json": {
       "model_id": "1ea86572d49b4ea785d2ce9752530069",
       "version_major": 2,
       "version_minor": 0
      },
      "text/plain": [
       "Validation: |          | 0/? [00:00<?, ?it/s]"
      ]
     },
     "metadata": {},
     "output_type": "display_data"
    },
    {
     "name": "stdout",
     "output_type": "stream",
     "text": [
      "Validation - Epoch 13:\n",
      "Val Accuracy: 0.9435\n",
      "Val Precision: 0.9686\n",
      "Val Recall: 0.9167\n",
      "Epoch 13:\n",
      "Train Accuracy: 0.9948\n",
      "Train Precision: 0.9940\n",
      "Train Recall: 0.9958\n"
     ]
    },
    {
     "data": {
      "application/vnd.jupyter.widget-view+json": {
       "model_id": "0b5438cbe0fe46b79d2f71e2f510f086",
       "version_major": 2,
       "version_minor": 0
      },
      "text/plain": [
       "Validation: |          | 0/? [00:00<?, ?it/s]"
      ]
     },
     "metadata": {},
     "output_type": "display_data"
    },
    {
     "name": "stdout",
     "output_type": "stream",
     "text": [
      "Validation - Epoch 14:\n",
      "Val Accuracy: 0.9315\n",
      "Val Precision: 0.9801\n",
      "Val Recall: 0.8810\n",
      "Epoch 14:\n",
      "Train Accuracy: 0.9936\n",
      "Train Precision: 0.9927\n",
      "Train Recall: 0.9945\n"
     ]
    },
    {
     "data": {
      "application/vnd.jupyter.widget-view+json": {
       "model_id": "76c3e8a0803848358d041a4c3c1a0ce8",
       "version_major": 2,
       "version_minor": 0
      },
      "text/plain": [
       "Validation: |          | 0/? [00:00<?, ?it/s]"
      ]
     },
     "metadata": {},
     "output_type": "display_data"
    },
    {
     "name": "stdout",
     "output_type": "stream",
     "text": [
      "Validation - Epoch 15:\n",
      "Val Accuracy: 0.9167\n",
      "Val Precision: 0.9930\n",
      "Val Recall: 0.8393\n",
      "Epoch 15:\n",
      "Train Accuracy: 0.9988\n",
      "Train Precision: 0.9982\n",
      "Train Recall: 0.9994\n"
     ]
    },
    {
     "data": {
      "application/vnd.jupyter.widget-view+json": {
       "model_id": "b0acc765d71243c79e84f668d7f18eec",
       "version_major": 2,
       "version_minor": 0
      },
      "text/plain": [
       "Validation: |          | 0/? [00:00<?, ?it/s]"
      ]
     },
     "metadata": {},
     "output_type": "display_data"
    },
    {
     "name": "stdout",
     "output_type": "stream",
     "text": [
      "Validation - Epoch 16:\n",
      "Val Accuracy: 0.9286\n",
      "Val Precision: 0.9865\n",
      "Val Recall: 0.8690\n",
      "Epoch 16:\n",
      "Train Accuracy: 0.9964\n",
      "Train Precision: 0.9952\n",
      "Train Recall: 0.9976\n"
     ]
    },
    {
     "data": {
      "application/vnd.jupyter.widget-view+json": {
       "model_id": "969460d99c004f56a94aec260d17d6db",
       "version_major": 2,
       "version_minor": 0
      },
      "text/plain": [
       "Validation: |          | 0/? [00:00<?, ?it/s]"
      ]
     },
     "metadata": {},
     "output_type": "display_data"
    },
    {
     "name": "stdout",
     "output_type": "stream",
     "text": [
      "Validation - Epoch 17:\n",
      "Val Accuracy: 0.9226\n",
      "Val Precision: 0.9863\n",
      "Val Recall: 0.8571\n",
      "Epoch 17:\n",
      "Train Accuracy: 0.9982\n",
      "Train Precision: 0.9976\n",
      "Train Recall: 0.9988\n"
     ]
    },
    {
     "data": {
      "application/vnd.jupyter.widget-view+json": {
       "model_id": "764cdc8a87744de6a3b8198ed5919385",
       "version_major": 2,
       "version_minor": 0
      },
      "text/plain": [
       "Validation: |          | 0/? [00:00<?, ?it/s]"
      ]
     },
     "metadata": {},
     "output_type": "display_data"
    },
    {
     "name": "stdout",
     "output_type": "stream",
     "text": [
      "Validation - Epoch 18:\n",
      "Val Accuracy: 0.9435\n",
      "Val Precision: 0.9806\n",
      "Val Recall: 0.9048\n",
      "Epoch 18:\n",
      "Train Accuracy: 0.9958\n",
      "Train Precision: 0.9970\n",
      "Train Recall: 0.9945\n"
     ]
    },
    {
     "data": {
      "application/vnd.jupyter.widget-view+json": {
       "model_id": "c35084ad491f4460aa6b7f18529221b0",
       "version_major": 2,
       "version_minor": 0
      },
      "text/plain": [
       "Validation: |          | 0/? [00:00<?, ?it/s]"
      ]
     },
     "metadata": {},
     "output_type": "display_data"
    },
    {
     "name": "stderr",
     "output_type": "stream",
     "text": [
      "`Trainer.fit` stopped: `max_epochs=20` reached.\n"
     ]
    },
    {
     "name": "stdout",
     "output_type": "stream",
     "text": [
      "Validation - Epoch 19:\n",
      "Val Accuracy: 0.9286\n",
      "Val Precision: 0.9865\n",
      "Val Recall: 0.8690\n",
      "Epoch 19:\n",
      "Train Accuracy: 0.9970\n",
      "Train Precision: 0.9964\n",
      "Train Recall: 0.9976\n"
     ]
    }
   ],
   "source": [
    "# Ensure wandb is finished from the previous session\n",
    "wandb.finish()\n",
    "\n",
    "# Initialize the DataModule\n",
    "data_dir = \"temporal_ds/images\"\n",
    "data_module = FireDataModule(data_dir, batch_size=16, img_size=112, num_workers=12)\n",
    "\n",
    "# Initialize the model\n",
    "model = FireClassifier(learning_rate=1e-4, unfreeze_epoch=3)\n",
    "\n",
    "# Define callbacks\n",
    "# Save the best model based on the highest recall score in validation\n",
    "checkpoint_callback = pl.callbacks.ModelCheckpoint(\n",
    "    monitor=\"val_recall\",  # Monitor validation recall\n",
    "    mode=\"max\",            # Save the model with the highest recall\n",
    "    save_top_k=1,          # Save only the best model\n",
    "    dirpath=\"model_checkpoints/\",  # Directory to save checkpoints\n",
    "    filename=\"fire_model-{epoch:02d}-{val_recall:.4f}\",  # Filename format for the saved model\n",
    "    save_weights_only=True  # Save only the model weights (no optimizer state)\n",
    ")\n",
    "\n",
    "# Initialize WandbLogger\n",
    "wandb_logger = pl.loggers.WandbLogger(project='fire_detection_project')\n",
    "\n",
    "# Initialize the Trainer (total epochs include frozen + unfrozen training)\n",
    "trainer = pl.Trainer(\n",
    "    max_epochs=20,  # Total epochs (including frozen and unfrozen stages)\n",
    "    callbacks=[checkpoint_callback],  # Add the checkpoint callback\n",
    "    logger=wandb_logger\n",
    ")\n",
    "\n",
    "# Train the model\n",
    "trainer.fit(model, datamodule=data_module)\n"
   ]
  },
  {
   "cell_type": "code",
   "execution_count": 6,
   "metadata": {},
   "outputs": [
    {
     "data": {
      "application/vnd.jupyter.widget-view+json": {
       "model_id": "263d8c494d294238a4ea96197c16fa48",
       "version_major": 2,
       "version_minor": 0
      },
      "text/plain": [
       "VBox(children=(Label(value='0.009 MB of 0.009 MB uploaded\\r'), FloatProgress(value=1.0, max=1.0)))"
      ]
     },
     "metadata": {},
     "output_type": "display_data"
    },
    {
     "data": {
      "text/html": [
       "<style>\n",
       "    table.wandb td:nth-child(1) { padding: 0 10px; text-align: left ; width: auto;} td:nth-child(2) {text-align: left ; width: 100%}\n",
       "    .wandb-row { display: flex; flex-direction: row; flex-wrap: wrap; justify-content: flex-start; width: 100% }\n",
       "    .wandb-col { display: flex; flex-direction: column; flex-basis: 100%; flex: 1; padding: 10px; }\n",
       "    </style>\n",
       "<div class=\"wandb-row\"><div class=\"wandb-col\"><h3>Run history:</h3><br/><table class=\"wandb\"><tr><td>epoch</td><td>▁▁▁▁▂▂▂▂▂▂▃▃▃▃▄▄▄▄▄▄▅▅▅▅▅▅▆▆▆▆▇▇▇▇▇▇████</td></tr><tr><td>train_acc</td><td>▁▄▄▅▇▇▇█████████████</td></tr><tr><td>train_loss</td><td>█▆▅▄▂▂▂▁▂▁▁▁▁▁▁▁▁▁▁▁</td></tr><tr><td>train_precision</td><td>▁▃▄▅▇▇▇█████████████</td></tr><tr><td>train_recall</td><td>▁▂▂▄▆▇▇▇▇███████████</td></tr><tr><td>trainer/global_step</td><td>▁▁▁▁▂▂▂▂▂▂▃▃▃▃▄▄▄▄▄▄▅▅▅▅▅▅▆▆▆▆▇▇▇▇▇▇████</td></tr><tr><td>val_acc</td><td>▁▃▂▆▅▅▇▆▇▇▆█▆█▇▆▇▇█▇</td></tr><tr><td>val_loss</td><td>█▇▇▃▃▄▁▂▃▁▄▂▆▂▄▆▅▅▁▃</td></tr><tr><td>val_precision</td><td>▁▄▄▇▇▆▆▇▇▇▇▇▇▇██████</td></tr><tr><td>val_recall</td><td>▅▄▁▄▃▁█▄▅▆▄▇▄█▅▃▅▄▇▅</td></tr></table><br/></div><div class=\"wandb-col\"><h3>Run summary:</h3><br/><table class=\"wandb\"><tr><td>epoch</td><td>19</td></tr><tr><td>train_acc</td><td>0.99697</td></tr><tr><td>train_loss</td><td>0.01004</td></tr><tr><td>train_precision</td><td>0.99562</td></tr><tr><td>train_recall</td><td>0.99781</td></tr><tr><td>trainer/global_step</td><td>4139</td></tr><tr><td>val_acc</td><td>0.92857</td></tr><tr><td>val_loss</td><td>0.24767</td></tr><tr><td>val_precision</td><td>0.98519</td></tr><tr><td>val_recall</td><td>0.86914</td></tr></table><br/></div></div>"
      ],
      "text/plain": [
       "<IPython.core.display.HTML object>"
      ]
     },
     "metadata": {},
     "output_type": "display_data"
    },
    {
     "data": {
      "text/html": [
       " View run <strong style=\"color:#cdcd00\">comic-moon-32</strong> at: <a href='https://wandb.ai/mateolos/fire_detection_project/runs/ilhbc6bs' target=\"_blank\">https://wandb.ai/mateolos/fire_detection_project/runs/ilhbc6bs</a><br/> View project at: <a href='https://wandb.ai/mateolos/fire_detection_project' target=\"_blank\">https://wandb.ai/mateolos/fire_detection_project</a><br/>Synced 5 W&B file(s), 0 media file(s), 0 artifact file(s) and 0 other file(s)"
      ],
      "text/plain": [
       "<IPython.core.display.HTML object>"
      ]
     },
     "metadata": {},
     "output_type": "display_data"
    },
    {
     "data": {
      "text/html": [
       "Find logs at: <code>./wandb/run-20240917_195230-ilhbc6bs/logs</code>"
      ],
      "text/plain": [
       "<IPython.core.display.HTML object>"
      ]
     },
     "metadata": {},
     "output_type": "display_data"
    }
   ],
   "source": [
    "wandb.finish()"
   ]
  },
  {
   "cell_type": "code",
   "execution_count": null,
   "metadata": {},
   "outputs": [],
   "source": []
  },
  {
   "cell_type": "code",
   "execution_count": 7,
   "metadata": {},
   "outputs": [],
   "source": []
  }
 ],
 "metadata": {
  "kernelspec": {
   "display_name": ".venv",
   "language": "python",
   "name": "python3"
  },
  "language_info": {
   "codemirror_mode": {
    "name": "ipython",
    "version": 3
   },
   "file_extension": ".py",
   "mimetype": "text/x-python",
   "name": "python",
   "nbconvert_exporter": "python",
   "pygments_lexer": "ipython3",
   "version": "3.10.12"
  }
 },
 "nbformat": 4,
 "nbformat_minor": 2
}
